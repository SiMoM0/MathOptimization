{
 "cells": [
  {
   "cell_type": "markdown",
   "metadata": {},
   "source": [
    "# Critical Path Method technique for Project Planning"
   ]
  },
  {
   "cell_type": "code",
   "execution_count": 1,
   "metadata": {},
   "outputs": [],
   "source": [
    "import networkx as nx"
   ]
  },
  {
   "cell_type": "markdown",
   "metadata": {},
   "source": [
    "Implementation of the CPM technique for the project plaaning problem, with time complexity of $O(m)$."
   ]
  },
  {
   "cell_type": "code",
   "execution_count": 9,
   "metadata": {},
   "outputs": [],
   "source": [
    "def cpm(G):\n",
    "    #useful variables of the graph given in input\n",
    "    node_list = list(G.nodes)\n",
    "    edge_list = list(G.edges)\n",
    "\n",
    "    #number of nodes\n",
    "    n = len(node_list)\n",
    "    #number of edges\n",
    "    m = len(edge_list)\n",
    "\n",
    "    #sort the vertices topologically\n",
    "    #in this case by ascending order using a simple sort algorithm\n",
    "    node_list.sort()\n",
    "\n",
    "    #add attribute TMIN and TMAX at every vertices\n",
    "    nx.set_node_attributes(G, 0, 'TMIN')\n",
    "    nx.set_node_attributes(G, 0, 'TMAX')\n",
    "\n",
    "    #terminal node\n",
    "    t = None\n",
    "\n",
    "    #forward loop to update TMIN for all the vertices\n",
    "    for h, node_h in enumerate(node_list):\n",
    "        #skip first node\n",
    "        if h == 0:\n",
    "            continue\n",
    "        G.nodes[node_h]['TMIN'] = max([G.nodes[pred]['TMIN'] + G[pred][node_h]['weight'] for pred in G.predecessors(node_h)])\n",
    "        t = node_h\n",
    "    #set minimum duration of the project\n",
    "    G.nodes[t]['TMAX'] = G.nodes[t]['TMIN']\n",
    "\n",
    "    #backward loop to update TMAX\n",
    "    for h, node_h in reversed(list(enumerate(node_list))):\n",
    "        #TODO: check this part which is working for not all nodes\n",
    "        if h == n-1:\n",
    "            continue\n",
    "        G.nodes[node_h]['TMAX'] = min([G.nodes[neigh]['TMAX'] - G[node_h][neigh]['weight'] for neigh in G.neighbors(node_h)])\n",
    "\n",
    "    #create a dictionary containing for every vertex the attributes TMIN and TMAX\n",
    "    plan = {}\n",
    "    for node in node_list:\n",
    "        tmin = G.nodes[node]['TMIN']\n",
    "        tmax = G.nodes[node]['TMAX']\n",
    "        plan[node] = [tmin, tmax]\n",
    "\n",
    "    return plan"
   ]
  },
  {
   "cell_type": "markdown",
   "metadata": {},
   "source": [
    "### Test"
   ]
  },
  {
   "cell_type": "code",
   "execution_count": 3,
   "metadata": {},
   "outputs": [],
   "source": [
    "G = nx.DiGraph()\n",
    "#weight in this case stand for duration between two vertices\n",
    "G.add_edge(1, 2, weight=6)\n",
    "G.add_edge(1, 3, weight=3)\n",
    "G.add_edge(1, 4, weight=5)\n",
    "G.add_edge(2, 5, weight=4)\n",
    "G.add_edge(2, 8, weight=5)\n",
    "G.add_edge(3, 6, weight=7)\n",
    "G.add_edge(4, 6, weight=4)\n",
    "G.add_edge(4, 7, weight=6)\n",
    "G.add_edge(5, 8, weight=3)\n",
    "G.add_edge(6, 8, weight=4)\n",
    "G.add_edge(6, 9, weight=3)\n",
    "G.add_edge(7, 9, weight=2)\n",
    "G.add_edge(8, 10, weight=6)\n",
    "G.add_edge(9, 10, weight=5)"
   ]
  },
  {
   "cell_type": "code",
   "execution_count": 10,
   "metadata": {},
   "outputs": [
    {
     "name": "stdout",
     "output_type": "stream",
     "text": [
      "{1: [0, 0], 2: [6, 7], 3: [3, 3], 4: [5, 6], 5: [10, 11], 6: [10, 10], 7: [11, 13], 8: [14, 14], 9: [13, 15], 10: [20, 20]}\n"
     ]
    }
   ],
   "source": [
    "project = cpm(G)\n",
    "print(project)"
   ]
  }
 ],
 "metadata": {
  "interpreter": {
   "hash": "122ceb358137b0bae218a9ce70c8644c3935e31a12a8af970b07a55016028c1b"
  },
  "kernelspec": {
   "display_name": "Python 3.8.8 ('base')",
   "language": "python",
   "name": "python3"
  },
  "language_info": {
   "codemirror_mode": {
    "name": "ipython",
    "version": 3
   },
   "file_extension": ".py",
   "mimetype": "text/x-python",
   "name": "python",
   "nbconvert_exporter": "python",
   "pygments_lexer": "ipython3",
   "version": "3.8.8"
  },
  "orig_nbformat": 4
 },
 "nbformat": 4,
 "nbformat_minor": 2
}
