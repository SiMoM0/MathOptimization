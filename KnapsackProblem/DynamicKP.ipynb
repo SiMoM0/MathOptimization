{
 "cells": [
  {
   "cell_type": "markdown",
   "metadata": {},
   "source": [
    "# PD-KP Algorithm"
   ]
  },
  {
   "cell_type": "code",
   "execution_count": 1,
   "metadata": {},
   "outputs": [],
   "source": [
    "import numpy as np"
   ]
  },
  {
   "cell_type": "markdown",
   "metadata": {},
   "source": [
    "The **Knapsack Problem** is an NP-hard problem where there is a set of items $\\{1,...,n\\}$, each with a profit $p_j$, a weight $w_j$ and exists a container of capacity $W$. The problem consists in selecting an item subset with maximum profit to load into the container.\n",
    "\n",
    "In this notebook, the knapsack problem is solved using *dynamic programming*, known as PD-KP algorithm, which has complexity $O(nW)$, non polynomial in the size of $O(nlogW)$ of the instance. For large values of $W$, this algorithm is not competitive with the *branch and bound* techniques."
   ]
  },
  {
   "cell_type": "code",
   "execution_count": 37,
   "metadata": {},
   "outputs": [],
   "source": [
    "def pd_kp(items, p, w, W):\n",
    "    #number of items\n",
    "    n = len(items)    \n",
    "    #optimal solution\n",
    "    x_star = [0]*n\n",
    "    #define z[W,j], maximum profit that can be obtained with the subset of items 1,...,j on a container with capacit K\n",
    "    z = np.zeros(shape=(W+1, n+1))\n",
    "    #initialization for j=0 (useless since all the values are initialize as 0)\n",
    "    for K in range(W+1):\n",
    "        z[K, 0] = 0\n",
    "    #define column j of the matrix z\n",
    "    for j in range(1, n+1):\n",
    "        weight = w[j-1]\n",
    "        for K in range(weight-1):\n",
    "            z[K, j] = z[K, j-1]\n",
    "        for K in range(weight, W+1):\n",
    "            if p[j-1] + z[K-weight, j-1] > z[K, j-1]:\n",
    "                #it is better to select j\n",
    "                z[K, j] = p[j-1] + z[K-weight, j-1]\n",
    "            else:\n",
    "                #it is better not to select j\n",
    "                z[K, j] = z[K, j-1]\n",
    "    \n",
    "    #optimal solution value\n",
    "    z_star = z[W, n]\n",
    "    residual_cap = W\n",
    "\n",
    "    #define the optimal solution x_star[j]\n",
    "    for j in range(n, 0, -1):\n",
    "        if z[residual_cap, j] == z[residual_cap, j-1]:\n",
    "            #print('Index {} is {}'.format(j-1, 0))\n",
    "            x_star[j-1] = 0\n",
    "        else:\n",
    "            #print('Index {} is {}'.format(j-1, 1))\n",
    "            x_star[j-1] = 1\n",
    "            residual_cap -= w[j-1]\n",
    "    \n",
    "    #print(z.transpose())\n",
    "\n",
    "    #return solution\n",
    "    return x_star, z_star"
   ]
  },
  {
   "cell_type": "markdown",
   "metadata": {},
   "source": [
    "### Test"
   ]
  },
  {
   "cell_type": "code",
   "execution_count": 38,
   "metadata": {},
   "outputs": [
    {
     "name": "stdout",
     "output_type": "stream",
     "text": [
      "Solution:  [0, 1, 1]\n",
      "Optimal value:  22.0\n"
     ]
    }
   ],
   "source": [
    "items = ('1', '2', '3')\n",
    "profits = (6, 10, 12)\n",
    "weights = (1, 2, 3)\n",
    "sol, z = pd_kp(items, profits, weights, 5)\n",
    "print('Solution: ', sol)\n",
    "print('Optimal value: ', z)"
   ]
  },
  {
   "cell_type": "code",
   "execution_count": 39,
   "metadata": {},
   "outputs": [
    {
     "name": "stdout",
     "output_type": "stream",
     "text": [
      "Solution:  [0, 1, 1]\n",
      "Optimal value:  22.0\n"
     ]
    }
   ],
   "source": [
    "items = ('1', '2', '3')\n",
    "profits = (6, 10, 12)\n",
    "weights = (3, 2, 1)\n",
    "sol, z = pd_kp(items, profits, weights, 5)\n",
    "print('Solution: ', sol)\n",
    "print('Optimal value: ', z)"
   ]
  },
  {
   "cell_type": "code",
   "execution_count": 40,
   "metadata": {},
   "outputs": [
    {
     "name": "stdout",
     "output_type": "stream",
     "text": [
      "Solution:  [1, 0, 0]\n",
      "Optimal value:  100.0\n"
     ]
    }
   ],
   "source": [
    "items = ('1', '2', '3')\n",
    "profits = (100, 80, 12)\n",
    "weights = (5, 2, 3)\n",
    "sol, z = pd_kp(items, profits, weights, 5)\n",
    "print('Solution: ', sol)\n",
    "print('Optimal value: ', z)"
   ]
  },
  {
   "cell_type": "code",
   "execution_count": 41,
   "metadata": {},
   "outputs": [
    {
     "name": "stdout",
     "output_type": "stream",
     "text": [
      "Solution:  [0, 1, 1, 1, 1]\n",
      "Optimal value:  15.0\n"
     ]
    }
   ],
   "source": [
    "items = ('1', '2', '3', '4', '5')\n",
    "profits = (4, 2, 1, 2, 10)\n",
    "weights = (12, 2, 1, 1, 4)\n",
    "sol, z = pd_kp(items, profits, weights, 15)\n",
    "print('Solution: ', sol)\n",
    "print('Optimal value: ', z)"
   ]
  }
 ],
 "metadata": {
  "interpreter": {
   "hash": "122ceb358137b0bae218a9ce70c8644c3935e31a12a8af970b07a55016028c1b"
  },
  "kernelspec": {
   "display_name": "Python 3.8.8 ('base')",
   "language": "python",
   "name": "python3"
  },
  "language_info": {
   "codemirror_mode": {
    "name": "ipython",
    "version": 3
   },
   "file_extension": ".py",
   "mimetype": "text/x-python",
   "name": "python",
   "nbconvert_exporter": "python",
   "pygments_lexer": "ipython3",
   "version": "3.8.8"
  },
  "orig_nbformat": 4
 },
 "nbformat": 4,
 "nbformat_minor": 2
}
