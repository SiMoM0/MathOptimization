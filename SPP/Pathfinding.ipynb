{
 "cells": [
  {
   "cell_type": "markdown",
   "metadata": {},
   "source": [
    "# Pathfinding Algorithm"
   ]
  },
  {
   "cell_type": "code",
   "execution_count": 1,
   "metadata": {},
   "outputs": [],
   "source": [
    "import networkx as nx"
   ]
  },
  {
   "cell_type": "markdown",
   "metadata": {},
   "source": [
    "The pathfinding algorithm is useful in order to get all vertices reachable from a given node, meaning that there exists a path connecting theme. The function below return the list of all reachable nodes in the graph, starting from a given node."
   ]
  },
  {
   "cell_type": "code",
   "execution_count": 2,
   "metadata": {},
   "outputs": [],
   "source": [
    "def pathfinding(G, start):\n",
    "    #useful variables of the graph given in input\n",
    "    node_list = list(G.nodes)\n",
    "    edge_list = list(G.edges)\n",
    "\n",
    "    #number of nodes\n",
    "    n = len(node_list)\n",
    "    #number of edges\n",
    "    m = len(edge_list)\n",
    "\n",
    "    #set of nodes to be processed\n",
    "    Q = {start}\n",
    "    #set of reachable nodes starting from the input node\n",
    "    S = {start}\n",
    "\n",
    "    #set predecessor for every node\n",
    "    nx.set_node_attributes(G, 0, 'pred')\n",
    "    G.nodes[start]['pred'] = start\n",
    "\n",
    "    while Q:\n",
    "        node = Q.pop()\n",
    "        #for each neighbor not visited yet, update infos\n",
    "        for neighbor in G.neighbors(node):\n",
    "            if G.nodes[neighbor]['pred'] == 0:\n",
    "                G.nodes[neighbor]['pred'] = node\n",
    "                Q.add(neighbor)\n",
    "                S.add(neighbor)\n",
    "\n",
    "    return S"
   ]
  },
  {
   "cell_type": "markdown",
   "metadata": {},
   "source": [
    "### Test\n",
    "\n",
    "Testing the pathfinding algorithm with the following graph."
   ]
  },
  {
   "cell_type": "code",
   "execution_count": 3,
   "metadata": {},
   "outputs": [],
   "source": [
    "G = nx.Graph()\n",
    "G.add_edge(1, 2, weight=14)\n",
    "G.add_edge(1, 3, weight=2)\n",
    "G.add_edge(1, 4, weight=1)\n",
    "G.add_edge(2, 3, weight=15)\n",
    "G.add_edge(2, 6, weight=7)\n",
    "G.add_edge(3, 4, weight=6)\n",
    "G.add_edge(3, 5, weight=5)\n",
    "G.add_edge(3, 7, weight=12)\n",
    "G.add_edge(4, 6, weight=4)\n",
    "G.add_edge(6, 5, weight=3)\n",
    "G.add_edge(6, 7, weight=6)\n",
    "G.add_edge(6, 8, weight=20)\n",
    "G.add_edge(5, 8, weight=10)\n",
    "G.add_edge(7, 8, weight=5)"
   ]
  },
  {
   "cell_type": "code",
   "execution_count": 5,
   "metadata": {},
   "outputs": [
    {
     "name": "stdout",
     "output_type": "stream",
     "text": [
      "Set of reachable nodes from node 1:\n",
      "{1, 2, 3, 4, 5, 6, 7, 8}\n"
     ]
    }
   ],
   "source": [
    "#start node\n",
    "start = list(G.nodes)[0]\n",
    "\n",
    "reachables = pathfinding(G, start)\n",
    "print(f'Set of reachable nodes from node {start}:\\n{reachables}')"
   ]
  }
 ],
 "metadata": {
  "interpreter": {
   "hash": "122ceb358137b0bae218a9ce70c8644c3935e31a12a8af970b07a55016028c1b"
  },
  "kernelspec": {
   "display_name": "Python 3.8.8 ('base')",
   "language": "python",
   "name": "python3"
  },
  "language_info": {
   "codemirror_mode": {
    "name": "ipython",
    "version": 3
   },
   "file_extension": ".py",
   "mimetype": "text/x-python",
   "name": "python",
   "nbconvert_exporter": "python",
   "pygments_lexer": "ipython3",
   "version": "3.8.8"
  },
  "orig_nbformat": 4
 },
 "nbformat": 4,
 "nbformat_minor": 2
}
