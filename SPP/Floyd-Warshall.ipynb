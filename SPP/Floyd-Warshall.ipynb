{
 "cells": [
  {
   "cell_type": "markdown",
   "metadata": {},
   "source": [
    "# Floyd-Warshall Algorithm for the SPP"
   ]
  },
  {
   "cell_type": "code",
   "execution_count": 29,
   "metadata": {},
   "outputs": [],
   "source": [
    "import numpy as np\n",
    "import networkx as nx"
   ]
  },
  {
   "cell_type": "markdown",
   "metadata": {},
   "source": [
    "Floyd-Warshall's algorithm is useful for the Shortest Path Problem in order to find the shortest path from all vertices $s$ to all other vertices $t$. The time complexity is $O(n^3)$ as if we apply Dijkstra's algorithm from each vertex, but this algorithm can also be used in case of negative costs and is able to identify possible negative-cost cycles. However, in case of negative cycles, the algorithm stop, throwing an exception.\n",
    "\n",
    "The algorithm makes use of two matrices $n \\times n$, with $n$ the nummber of nodes:\n",
    "* Distance matrix, containing the shortest distances between a pair of nodes, if exists a path for theme\n",
    "* Predecessor matrix, showing the predecessor of a given node in the path for theme"
   ]
  },
  {
   "cell_type": "code",
   "execution_count": 42,
   "metadata": {},
   "outputs": [],
   "source": [
    "def floyd_warshall(G):\n",
    "    #useful variables of the graph given in input\n",
    "    node_list = list(G.nodes)\n",
    "    edge_list = list(G.edges)\n",
    "\n",
    "    #number of nodes\n",
    "    n = len(node_list)\n",
    "    #number of edges\n",
    "    m = len(edge_list)\n",
    "\n",
    "    #sort the list of nodes in ascending order\n",
    "    node_list.sort()\n",
    "\n",
    "    #distances matrix\n",
    "    DM = np.zeros(shape=(4, 4))\n",
    "    #predecessor matrix\n",
    "    PM = np.zeros(shape=(4, 4))\n",
    "\n",
    "    #initialize the values for the two matrixes\n",
    "    for i, node_i in enumerate(node_list):\n",
    "        for j, node_j in enumerate(node_list):\n",
    "            #assign node i to the predecessor matrix while comparing i-j\n",
    "            PM[i][j] = node_i\n",
    "            try:\n",
    "                if i == j:\n",
    "                    #assign distance 0 if i-j are the same node\n",
    "                    DM[i][j] = 0\n",
    "                else:\n",
    "                    #assign the correct cost for node i-j if exists an arc between theme\n",
    "                    DM[i][j] = G[node_i][node_j]['weight']\n",
    "            except:\n",
    "                #assign a big value in case does not exist an arce connecting i-j\n",
    "                DM[i][j] = 99\n",
    "\n",
    "    #loop for the triangular operations on h\n",
    "    for h in range(n):\n",
    "        for i in range(n):\n",
    "            for j in range(n):\n",
    "                if DM[i][h] + DM[h][j] < DM[i][j]:\n",
    "                    #update values\n",
    "                    DM[i][j] = DM[i][h] + DM[h][j]\n",
    "                    PM[i][j] = PM[h][j]\n",
    "        #check for negative cycles\n",
    "        for i in range(n):\n",
    "            if DM[i][i] < 0:\n",
    "                raise Exception('Negative Cycles')\n",
    "\n",
    "    return DM, PM\n"
   ]
  },
  {
   "cell_type": "markdown",
   "metadata": {},
   "source": [
    "### Test"
   ]
  },
  {
   "cell_type": "code",
   "execution_count": 14,
   "metadata": {},
   "outputs": [],
   "source": [
    "G = nx.DiGraph()\n",
    "G.add_edge(1, 2, weight=2)\n",
    "G.add_edge(1, 4, weight=-4)\n",
    "G.add_edge(2, 4, weight=3)\n",
    "G.add_edge(3, 1, weight=3)\n",
    "G.add_edge(4, 2, weight=-1)\n",
    "G.add_edge(4, 3, weight=4)"
   ]
  },
  {
   "cell_type": "code",
   "execution_count": 41,
   "metadata": {},
   "outputs": [
    {
     "name": "stdout",
     "output_type": "stream",
     "text": [
      "[[ 0. -5.  0. -4.]\n",
      " [10.  0.  7.  3.]\n",
      " [ 3. -2.  0. -1.]\n",
      " [ 7. -1.  4.  0.]]\n",
      "[[1. 4. 4. 1.]\n",
      " [3. 2. 4. 2.]\n",
      " [3. 4. 3. 1.]\n",
      " [3. 4. 4. 4.]]\n"
     ]
    }
   ],
   "source": [
    "DM, PM = floyd_warshall(G)\n",
    "print(DM)\n",
    "print(PM)"
   ]
  }
 ],
 "metadata": {
  "interpreter": {
   "hash": "122ceb358137b0bae218a9ce70c8644c3935e31a12a8af970b07a55016028c1b"
  },
  "kernelspec": {
   "display_name": "Python 3.8.8 ('base')",
   "language": "python",
   "name": "python3"
  },
  "language_info": {
   "codemirror_mode": {
    "name": "ipython",
    "version": 3
   },
   "file_extension": ".py",
   "mimetype": "text/x-python",
   "name": "python",
   "nbconvert_exporter": "python",
   "pygments_lexer": "ipython3",
   "version": "3.8.8"
  },
  "orig_nbformat": 4
 },
 "nbformat": 4,
 "nbformat_minor": 2
}
