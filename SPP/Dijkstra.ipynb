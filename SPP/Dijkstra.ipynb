{
 "cells": [
  {
   "cell_type": "markdown",
   "metadata": {},
   "source": [
    "# Dijkstra Algorithm for the Shortest Path Problem (SPP)"
   ]
  },
  {
   "cell_type": "code",
   "execution_count": 1,
   "metadata": {},
   "outputs": [],
   "source": [
    "import networkx as nx\n",
    "import matplotlib.pyplot as plt"
   ]
  },
  {
   "cell_type": "markdown",
   "metadata": {},
   "source": [
    "Implementation of the Dijkstra algorithm, which allows to find the shortest path from a vertex $s$ to all other vertices $t$ in a directed graph where all the costs of the arcs are positive. Negative cycles are avoided in these conditions. The time complexity of the algorithm is $O(n^2)$ and the path is created backward from the target node to the source using the *pred* attribute."
   ]
  },
  {
   "cell_type": "code",
   "execution_count": 2,
   "metadata": {},
   "outputs": [],
   "source": [
    "def dijkstra(G, start, end):\n",
    "    #useful variables of the graph given in input\n",
    "    node_list = list(G.nodes)\n",
    "    edge_list = list(G.edges)\n",
    "\n",
    "    #number of nodes\n",
    "    n = len(node_list)\n",
    "    #number of edges\n",
    "    m = len(edge_list)\n",
    "\n",
    "    #set for the visited nodes\n",
    "    S = {start}\n",
    "\n",
    "    #add attribute flag, pred and L to every node in the graph\n",
    "    nx.set_node_attributes(G, 0, 'flag')\n",
    "    nx.set_node_attributes(G, start, 'pred')\n",
    "    nx.set_node_attributes(G, None, 'L')\n",
    "\n",
    "    #set start node attributes\n",
    "    G.nodes[start]['flag'] = start\n",
    "    G.nodes[start]['pred'] = start\n",
    "    G.nodes[start]['L'] = 0\n",
    "\n",
    "    #set the L attribute for the neighbors of the start node\n",
    "    for neighbor in G.neighbors(start):\n",
    "        G.nodes[neighbor]['L'] = G[start][neighbor]['weight']\n",
    "    \n",
    "    #main loop\n",
    "    for k in range(n-1):\n",
    "        min = 100000\n",
    "\n",
    "        #new node to be add to S\n",
    "        h = None\n",
    "\n",
    "        #loop for the node already visited\n",
    "        for node in S:\n",
    "            for adj in G.neighbors(node):\n",
    "                if G.nodes[adj]['flag'] == 0 and G.nodes[adj]['L'] < min:\n",
    "                    #update the min value and the node to be add to S\n",
    "                    min = G.nodes[adj]['L']\n",
    "                    h = adj\n",
    "\n",
    "        #add h to S\n",
    "        S.add(h)\n",
    "        G.nodes[h]['flag'] = 1\n",
    "\n",
    "        print(S)\n",
    "\n",
    "        #update L and pred for the other nodes, not visited yet\n",
    "        for adj in G.neighbors(h):\n",
    "            if G.nodes[adj]['flag'] == 0 and (G.nodes[adj]['L'] == None or (G.nodes[h]['L'] + G[h][adj]['weight'] < G.nodes[adj]['L'])):\n",
    "                G.nodes[adj]['L'] = G.nodes[h]['L'] + G[h][adj]['weight']\n",
    "                G.nodes[adj]['pred'] = h\n",
    "\n",
    "    #calculate the shortest path between the nodes in input\n",
    "    path = [end]\n",
    "    length = G.nodes[end]['L']\n",
    "    pred = G.nodes[end]['pred']\n",
    "\n",
    "    while pred != start:\n",
    "        #insert the predecessor node in the path\n",
    "        path.insert(0, pred)\n",
    "        #update the predecessor\n",
    "        pred = G.nodes[pred]['pred']\n",
    "    #add the start node to the path\n",
    "    path.insert(0, start)\n",
    "\n",
    "    #print the value\n",
    "    print('Shortest Path from {} to {}:\\n{}\\nLength: {}'.format(start, end, path, length))"
   ]
  },
  {
   "cell_type": "markdown",
   "metadata": {},
   "source": [
    "### Test\n",
    "\n",
    "Testing the dijkstra algorithm for the SPP using the following graph as an example"
   ]
  },
  {
   "cell_type": "code",
   "execution_count": 9,
   "metadata": {},
   "outputs": [],
   "source": [
    "G = nx.DiGraph()\n",
    "G.add_edge(1, 2, weight=7)\n",
    "G.add_edge(1, 5, weight=3)\n",
    "G.add_edge(1, 4, weight=4)\n",
    "G.add_edge(3, 2, weight=1)\n",
    "G.add_edge(5, 2, weight=2)\n",
    "G.add_edge(4, 3, weight=7)\n",
    "G.add_edge(5, 3, weight=9)\n",
    "G.add_edge(5, 4, weight=1)"
   ]
  },
  {
   "cell_type": "code",
   "execution_count": 10,
   "metadata": {},
   "outputs": [
    {
     "name": "stdout",
     "output_type": "stream",
     "text": [
      "{1, 5}\n",
      "{1, 4, 5}\n",
      "{1, 2, 4, 5}\n",
      "{1, 2, 3, 4, 5}\n",
      "Shortest Path from 1 to 2:\n",
      "[1, 5, 2]\n",
      "Length: 5\n"
     ]
    }
   ],
   "source": [
    "#start\n",
    "start = list(G.nodes)[0]\n",
    "\n",
    "#end\n",
    "end = list(G.nodes)[1]\n",
    "\n",
    "dijkstra(G, start, end)"
   ]
  }
 ],
 "metadata": {
  "interpreter": {
   "hash": "122ceb358137b0bae218a9ce70c8644c3935e31a12a8af970b07a55016028c1b"
  },
  "kernelspec": {
   "display_name": "Python 3.8.8 64-bit ('base': conda)",
   "language": "python",
   "name": "python3"
  },
  "language_info": {
   "codemirror_mode": {
    "name": "ipython",
    "version": 3
   },
   "file_extension": ".py",
   "mimetype": "text/x-python",
   "name": "python",
   "nbconvert_exporter": "python",
   "pygments_lexer": "ipython3",
   "version": "3.8.8"
  },
  "orig_nbformat": 4
 },
 "nbformat": 4,
 "nbformat_minor": 2
}
