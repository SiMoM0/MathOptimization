{
 "cells": [
  {
   "cell_type": "markdown",
   "metadata": {},
   "source": [
    "# Linear Solver for Tableau Form"
   ]
  },
  {
   "cell_type": "markdown",
   "metadata": {},
   "source": [
    "Packages required for the code:"
   ]
  },
  {
   "cell_type": "code",
   "execution_count": 1,
   "metadata": {},
   "outputs": [],
   "source": [
    "import numpy as np"
   ]
  },
  {
   "cell_type": "markdown",
   "metadata": {},
   "source": [
    "The function below is a simple implementation of a linear solver. It can solve LP and ILP problems using the following mechanisms:\n",
    "* Primal Simplex Method\n",
    "* Dual Simplex Method\n",
    "* Gomory Cut\n",
    "\n",
    "The function **linear_solver(tableau, beta, integer, verbose)** takes as input the following parameters:\n",
    "* *tableau*: a numpy array of shape $n * m$ representing the entire tableau on which the operations will be carried out\n",
    "* *beta*: an array representing the indexes of the basic variables *(Ex: beta=[3, 4, 5] representing $x_3, x_4, x_5$ as basic variables)*\n",
    "* *integer*: boolean parameter in case it is needed an integer solution. Default is *False*\n",
    "* *verbose*: boolean parameter use for printing infos and intermediate tableau. Default is *False*"
   ]
  },
  {
   "cell_type": "code",
   "execution_count": 13,
   "metadata": {},
   "outputs": [],
   "source": [
    "def linear_solver(tableau, beta, integer=False, verbose=False):\n",
    "    \n",
    "    #print the starting tableau\n",
    "    print('START TABLEAU:\\n{}\\n'.format(tableau))\n",
    "\n",
    "    #number of rows in the tableau\n",
    "    m = tableau.shape[0]\n",
    "    #number of columns in the tableau\n",
    "    n = tableau.shape[1]\n",
    "\n",
    "    #flag for dual simplex method\n",
    "    dual = False\n",
    "\n",
    "    #final cases\n",
    "    unbounded = False\n",
    "    infeasible = False\n",
    "    optimal = False\n",
    "\n",
    "    while optimal == False and unbounded == False and infeasible == False:\n",
    "        #get the vector of costs\n",
    "        costs = [tableau[0][c] for c in range(1, n)]\n",
    "        #print('Costs vector: ', costs)\n",
    "        #verify if all the costs are >= 0, thus the tableau is in optimal form\n",
    "        if all(c >= 0 for c in costs):\n",
    "            #pick the b vector\n",
    "            b = [tableau[i][0] for i in range(1, m)]            \n",
    "            #verifiy if it is necessary to apply gomory's cut\n",
    "            if integer: \n",
    "                if all(elem == int(elem) for elem in b):\n",
    "                    optimal = True\n",
    "                    if verbose:\n",
    "                        print('\\n***********Obtain optimal tableau**************\\n')\n",
    "                    break\n",
    "                else:\n",
    "                    #apply gomory cut on the first fractional variable (fract is the index)\n",
    "                    fract = 0\n",
    "                    for i in range(1, m):\n",
    "                        if tableau[i][0] != int(tableau[i][0]):\n",
    "                            fract = i\n",
    "                            break\n",
    "\n",
    "                    #print the tableau with the gomory cut\n",
    "                    if verbose:\n",
    "                        print('TABLEAU WITH GOMORY CUT ON ROW=', fract)\n",
    "\n",
    "                    #add the new row\n",
    "                    tableau = np.vstack((tableau, np.array([0.]*n)))\n",
    "                    #add the new column\n",
    "                    tableau = np.hstack((tableau, np.zeros((m+1, 1), dtype=float)))\n",
    "                    tableau[m][n] = 1.\n",
    "                    \n",
    "                    #update the order of the tableau and the vector beta\n",
    "                    m = tableau.shape[0]\n",
    "                    n = tableau.shape[1]\n",
    "                    beta.append(n-1)\n",
    "\n",
    "                    #update the value in the new row added\n",
    "                    for i in range(n-1):\n",
    "                        if tableau[fract][i] >= 0:\n",
    "                            tableau[m-1][i] = -(tableau[fract][i] - int(tableau[fract][i]))\n",
    "                        else:\n",
    "                            tableau[m-1][i] = -(tableau[fract][i] - int(tableau[fract][i]-1))\n",
    "                    if verbose:\n",
    "                        print(tableau)\n",
    "\n",
    "                    #update the cost vector\n",
    "                    costs = [tableau[0][c] for c in range(1, n)]\n",
    "\n",
    "                    #update flag in order to apply dual simplex method\n",
    "                    dual = True\n",
    "            #if there is no need for the solution to be integer then it is optimal\n",
    "            else:\n",
    "                optimal = True\n",
    "                break\n",
    "\n",
    "        #if the gomory cuts have been applied, continue with the dual simplex problem\n",
    "        if dual:\n",
    "            #index of basic variable that will leave the basis\n",
    "            t = 1\n",
    "            #find the first negative variable with b < 0\n",
    "            for i in range(1, m):\n",
    "                if i != 0 and tableau[i][0] < 0:\n",
    "                    t = i\n",
    "                    break\n",
    "            if all(tableau[t][i] >= 0 for i in range(1, n)):\n",
    "                infeasible = True\n",
    "                break\n",
    "            else:\n",
    "                #choose the variable that will enter the basis\n",
    "                min = 100000\n",
    "                h = 1\n",
    "                for i in range(1, n):\n",
    "                    if tableau[t][i] < 0 and tableau[0][i] / abs(tableau[t][i]) < min:\n",
    "                        min = tableau[0][i] / abs(tableau[t][i])\n",
    "                        h = i\n",
    "                if verbose:\n",
    "                    print('Pivot operation on the cell: {}\\n'.format((t, h)))\n",
    "                \n",
    "                #PIVOT OPERATION\n",
    "                pivot = tableau[t][h]\n",
    "                #divide the pivot row by the pivot element\n",
    "                for i in range(n):\n",
    "                    tableau[t][i] /= pivot\n",
    "                #update all the other rows\n",
    "                save = pivot\n",
    "                for i in range(m):\n",
    "                    if i != t and tableau[i][h] != 0:\n",
    "                        save = tableau[i][h]\n",
    "                        for j in range(n):\n",
    "                            tableau[i][j] -= save*tableau[t][j]\n",
    "                #END PIVOT OPERATION\n",
    "                #update the vector beta, containing the indices of the basis variables\n",
    "                beta[t-1] = h\n",
    "        else:\n",
    "            #index of the non basic variable\n",
    "            h = 0\n",
    "            #Find the first cost < 0 and choose a non basic variable\n",
    "            for i, c in enumerate(tableau[0]):\n",
    "                if i != 0 and c < 0:\n",
    "                    h = i\n",
    "                    #print('Variable of index {} will enter the basis'.format(h))\n",
    "                    break\n",
    "            #check if all the a[i, h] are < 0 so the problem is unbounded\n",
    "            if all(tableau[i, h] < 0 for i in range(m)):\n",
    "                unbounded = True\n",
    "                break\n",
    "            else:\n",
    "                #choose the variable that will leave the basis\n",
    "                min = 100000\n",
    "                t = 1\n",
    "                for i in range(1, m):\n",
    "                    if tableau[i][h] > 0 and tableau[i][0] / tableau[i][h] < min:\n",
    "                        min = tableau[i][0] / tableau[i][h]\n",
    "                        t = i\n",
    "                if verbose:\n",
    "                    print('Pivot operation on the cell: {}\\n'.format((t, h)))\n",
    "\n",
    "                #PIVOT OPERATION\n",
    "                pivot = tableau[t][h]\n",
    "                #divide the pivot row by the pivot element\n",
    "                for i in range(n):\n",
    "                    tableau[t][i] /= pivot\n",
    "                #update all the other rows\n",
    "                save = pivot\n",
    "                for i in range(m):\n",
    "                    if i != t and tableau[i][h] != 0:\n",
    "                        save = tableau[i][h]\n",
    "                        for j in range(n):\n",
    "                            tableau[i][j] -= save*tableau[t][j]\n",
    "                #END PIVOT OPERATION\n",
    "                #update the vector beta, containing the indices of the basis variables\n",
    "                beta[t-1] = h\n",
    "\n",
    "        #Print the intermediate tableau\n",
    "        if verbose:\n",
    "            print('TABLEAU:\\n{}\\n'.format(tableau))\n",
    "\n",
    "    #solution\n",
    "    x = [0]*(n - 1)\n",
    "    for i, b in enumerate(beta):\n",
    "        x[b-1] = tableau[i+1][0]              \n",
    "            \n",
    "\n",
    "    if optimal:\n",
    "        print('The tableau has an optimal solution x = ', x)\n",
    "    elif unbounded:\n",
    "        print('The tableau is unbounded')\n",
    "    elif infeasible:\n",
    "        print('The problem is infeasible')"
   ]
  },
  {
   "cell_type": "markdown",
   "metadata": {},
   "source": [
    "### Test 1: Primal Simplex Method"
   ]
  },
  {
   "cell_type": "markdown",
   "metadata": {},
   "source": [
    "Creation of a simple tableau and execution of the code."
   ]
  },
  {
   "cell_type": "code",
   "execution_count": 10,
   "metadata": {},
   "outputs": [
    {
     "name": "stdout",
     "output_type": "stream",
     "text": [
      "START TABLEAU:\n",
      "[[ 0. -1. -1.  0.  0.]\n",
      " [24.  6.  4.  1.  0.]\n",
      " [ 6.  3. -2.  0.  1.]]\n",
      "\n",
      "The tableau has an optimal solution x =  [0, 6.0, 0, 18.0]\n"
     ]
    }
   ],
   "source": [
    "tableau = np.array([[0., -1., -1., 0., 0.], [24., 6., 4., 1., 0.], [6., 3., -2., 0., 1.]])\n",
    "beta = np.array([1, 2])\n",
    "\n",
    "#primal simple method only\n",
    "linear_solver(tableau, beta)"
   ]
  },
  {
   "cell_type": "markdown",
   "metadata": {},
   "source": [
    "### Test 2: ILP Problem\n",
    "In this case, first the Primal Simplex Method will be use, then the combination of Gomory Cut and Dual Simplex Method will find, if exists, the optimal integer solution"
   ]
  },
  {
   "cell_type": "code",
   "execution_count": 11,
   "metadata": {},
   "outputs": [
    {
     "name": "stdout",
     "output_type": "stream",
     "text": [
      "START TABLEAU:\n",
      "[[ 0. -4. -5.  0.  0.  0.]\n",
      " [ 8.  2.  2.  1.  0.  0.]\n",
      " [ 7.  1.  3.  0.  1.  0.]\n",
      " [ 5.  2.  1.  0.  0.  1.]]\n",
      "\n",
      "The tableau has an optimal solution x =  [1.0, 2.0, 2.0, 0.0, 1.0, 0, 0]\n"
     ]
    }
   ],
   "source": [
    "tableau2 = np.array([[0, -4, -5, 0, 0, 0], [8, 2, 2, 1, 0, 0], [7, 1, 3, 0, 1, 0], [5, 2, 1, 0, 0, 1]], dtype='float')\n",
    "beta2 = [3, 4, 5]\n",
    "linear_solver(tableau2, beta2, integer=True)"
   ]
  },
  {
   "cell_type": "markdown",
   "metadata": {},
   "source": [
    "### Test 3"
   ]
  },
  {
   "cell_type": "code",
   "execution_count": null,
   "metadata": {},
   "outputs": [],
   "source": [
    "#TODO: there is a problem in this example, about fractional value that doesn't stop the algorithm when the optimal tableau is reached.\n",
    "tableau3 = np.array([[0, -3, -2, 0, 0, 0], [7, 2, 1, 1, 0, 0], [8, 3, 2, 0, 1, 0], [6, 1, 1, 0, 0, 1]], dtype='float')\n",
    "beta3 = [3, 4, 5]\n",
    "linear_solver(tableau3, beta3, integer=True)"
   ]
  },
  {
   "cell_type": "markdown",
   "metadata": {},
   "source": [
    "### Test 4"
   ]
  },
  {
   "cell_type": "code",
   "execution_count": 12,
   "metadata": {},
   "outputs": [
    {
     "name": "stdout",
     "output_type": "stream",
     "text": [
      "START TABLEAU:\n",
      "[[ 0. -2. -1.  0.  0.]\n",
      " [ 0.  3. -2.  1.  0.]\n",
      " [ 6.  1.  2.  0.  1.]]\n",
      "\n",
      "Pivot operation on the cell: (1, 1)\n",
      "\n",
      "TABLEAU:\n",
      "[[ 0.          0.         -2.33333333  0.66666667  0.        ]\n",
      " [ 0.          1.         -0.66666667  0.33333333  0.        ]\n",
      " [ 6.          0.          2.66666667 -0.33333333  1.        ]]\n",
      "\n",
      "Pivot operation on the cell: (2, 2)\n",
      "\n",
      "TABLEAU:\n",
      "[[ 5.25   0.     0.     0.375  0.875]\n",
      " [ 1.5    1.     0.     0.25   0.25 ]\n",
      " [ 2.25   0.     1.    -0.125  0.375]]\n",
      "\n",
      "TABLEAU WITH GOMORY CUT ON ROW= 1\n",
      "[[ 5.25   0.     0.     0.375  0.875  0.   ]\n",
      " [ 1.5    1.     0.     0.25   0.25   0.   ]\n",
      " [ 2.25   0.     1.    -0.125  0.375  0.   ]\n",
      " [-0.5   -0.    -0.    -0.25  -0.25   1.   ]]\n",
      "Pivot operation on the cell: (3, 3)\n",
      "\n",
      "TABLEAU:\n",
      "[[ 4.5  0.   0.   0.   0.5  1.5]\n",
      " [ 1.   1.   0.   0.   0.   1. ]\n",
      " [ 2.5  0.   1.   0.   0.5 -0.5]\n",
      " [ 2.   0.   0.   1.   1.  -4. ]]\n",
      "\n",
      "TABLEAU WITH GOMORY CUT ON ROW= 2\n",
      "[[ 4.5  0.   0.   0.   0.5  1.5  0. ]\n",
      " [ 1.   1.   0.   0.   0.   1.   0. ]\n",
      " [ 2.5  0.   1.   0.   0.5 -0.5  0. ]\n",
      " [ 2.   0.   0.   1.   1.  -4.   0. ]\n",
      " [-0.5 -0.  -0.  -0.  -0.5 -0.5  1. ]]\n",
      "Pivot operation on the cell: (4, 4)\n",
      "\n",
      "TABLEAU:\n",
      "[[ 4.  0.  0.  0.  0.  1.  1.]\n",
      " [ 1.  1.  0.  0.  0.  1.  0.]\n",
      " [ 2.  0.  1.  0.  0. -1.  1.]\n",
      " [ 1.  0.  0.  1.  0. -5.  2.]\n",
      " [ 1.  0.  0.  0.  1.  1. -2.]]\n",
      "\n",
      "\n",
      "***********Obtain optimal tableau**************\n",
      "\n",
      "The tableau has an optimal solution x =  [1.0, 2.0, 1.0, 1.0, 0, 0]\n"
     ]
    }
   ],
   "source": [
    "tableau4 = np.array([[0, -2, -1, 0, 0], [0, 3, -2, 1, 0], [6, 1, 2, 0, 1]], dtype='float')\n",
    "beta4 = [3, 4]\n",
    "linear_solver(tableau4, beta4, integer=True, verbose=True)"
   ]
  }
 ],
 "metadata": {
  "interpreter": {
   "hash": "122ceb358137b0bae218a9ce70c8644c3935e31a12a8af970b07a55016028c1b"
  },
  "kernelspec": {
   "display_name": "Python 3.8.8 64-bit ('base': conda)",
   "language": "python",
   "name": "python3"
  },
  "language_info": {
   "codemirror_mode": {
    "name": "ipython",
    "version": 3
   },
   "file_extension": ".py",
   "mimetype": "text/x-python",
   "name": "python",
   "nbconvert_exporter": "python",
   "pygments_lexer": "ipython3",
   "version": "3.8.8"
  },
  "orig_nbformat": 4
 },
 "nbformat": 4,
 "nbformat_minor": 2
}
