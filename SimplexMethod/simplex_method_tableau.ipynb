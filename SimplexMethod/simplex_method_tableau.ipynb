{
 "cells": [
  {
   "cell_type": "markdown",
   "metadata": {},
   "source": [
    "# Simplex Method for Tableau Form"
   ]
  },
  {
   "cell_type": "markdown",
   "metadata": {},
   "source": [
    "In this notebook there are the two implementation of Simplex Method for Tableau Form:\n",
    "* Primal Simplex Method\n",
    "* Dual Simplex Method\n",
    "\n",
    "In addition, there is an implementatio of the **Two Phase Method**"
   ]
  },
  {
   "cell_type": "code",
   "execution_count": 1,
   "metadata": {},
   "outputs": [],
   "source": [
    "import numpy as np"
   ]
  },
  {
   "cell_type": "markdown",
   "metadata": {},
   "source": [
    "Function to perform the pivot overation on the tableau at position (t, h)"
   ]
  },
  {
   "cell_type": "code",
   "execution_count": 2,
   "metadata": {},
   "outputs": [],
   "source": [
    "#parameters: tableau, index t of the row, index h of the column\n",
    "def pivot_operation(tableau, t, h):\n",
    "    #shape of the tableau\n",
    "    m = tableau.shape[0]\n",
    "    n = tableau.shape[1]\n",
    "    pivot = tableau[t][h]\n",
    "    #divide the pivot row by the pivot element\n",
    "    for i in range(n):\n",
    "        tableau[t][i] /= pivot\n",
    "    #update all the other rows\n",
    "    save = pivot\n",
    "    for i in range(m):\n",
    "        if i != t and tableau[i][h] != 0:\n",
    "            save = tableau[i][h]\n",
    "            for j in range(n):\n",
    "                tableau[i][j] -= save*tableau[t][j]"
   ]
  },
  {
   "cell_type": "markdown",
   "metadata": {},
   "source": [
    "## Primal Simplex Method"
   ]
  },
  {
   "cell_type": "code",
   "execution_count": 3,
   "metadata": {},
   "outputs": [],
   "source": [
    "def primal_simplex_method(tableau, beta, two_phase=False, verbose=False):\n",
    "    #print the starting tableau\n",
    "    print('START TABLEAU:\\n{}\\n'.format(tableau))\n",
    "\n",
    "    #number of rows in the tableau\n",
    "    m = tableau.shape[0]\n",
    "    #number of columns in the tableau\n",
    "    n = tableau.shape[1]\n",
    "\n",
    "    #final cases\n",
    "    unbounded = False\n",
    "    optimal = False\n",
    "\n",
    "    while optimal == False and unbounded == False:\n",
    "        #get the vector of costs\n",
    "        costs = [tableau[0][c] for c in range(1, n)]\n",
    "        #verify if all the costs are >= 0, thus the tableau is in optimal form\n",
    "        if all(c >= 0 for c in costs):\n",
    "            optimal = True\n",
    "            break\n",
    "        else:\n",
    "            #index of the non basic variable\n",
    "            h = 0\n",
    "            #Find the first cost < 0 and choose a non basic variable\n",
    "            for i, c in enumerate(tableau[0]):\n",
    "                if i != 0 and c < 0:\n",
    "                    h = i\n",
    "                    #print('Variable of index {} will enter the basis'.format(h))\n",
    "                    break\n",
    "            #check if all the a[i, h] are < 0 so the problem is unbounded\n",
    "            if all(tableau[i, h] < 0 for i in range(m)):\n",
    "                unbounded = True\n",
    "                break\n",
    "            else:\n",
    "                #choose the variable that will leave the basis\n",
    "                min = 100000\n",
    "                t = 1\n",
    "                for i in range(1, m):\n",
    "                    if tableau[i][h] > 0 and tableau[i][0] / tableau[i][h] < min:\n",
    "                        min = tableau[i][0] / tableau[i][h]\n",
    "                        t = i\n",
    "                #print('Pivot operation on the cell: {}\\n'.format((t, h)))\n",
    "\n",
    "                #pivot operation\n",
    "                pivot_operation(tableau, t, h)\n",
    "\n",
    "                #update the vector beta, containing the indices of the basis variables\n",
    "                beta[t-1] = h\n",
    "        \n",
    "        #Print the intermediate tableau\n",
    "        if verbose:\n",
    "            print('TABLEAU:\\n{}\\n'.format(tableau))\n",
    "\n",
    "    #solution\n",
    "    x = [0]*(n - 1)\n",
    "    for i, b in enumerate(beta):\n",
    "        x[b-1] = tableau[i+1][0]\n",
    "    \n",
    "    if two_phase:\n",
    "        return tableau, beta\n",
    "\n",
    "    if optimal:\n",
    "        print('The tableau has an optimal solution x = ', x)\n",
    "    elif unbounded:\n",
    "        print('The tableau is unbounded')"
   ]
  },
  {
   "cell_type": "markdown",
   "metadata": {},
   "source": [
    "### Dual Simplex Method"
   ]
  },
  {
   "cell_type": "code",
   "execution_count": 79,
   "metadata": {},
   "outputs": [],
   "source": [
    "def dual_simplex_method(tableau, beta, verbose=False):\n",
    "    #print the starting tableau\n",
    "    print('START TABLEAU:\\n{}\\n'.format(tableau))\n",
    "\n",
    "    #number of rows in the tableau\n",
    "    m = tableau.shape[0]\n",
    "    #number of columns in the tableau\n",
    "    n = tableau.shape[1]\n",
    "\n",
    "    #final cases\n",
    "    infeasible = False\n",
    "    optimal = False\n",
    "\n",
    "    while optimal == False and infeasible == False:\n",
    "        #get the vector of costs\n",
    "        b_vector = [tableau[b][0] for b in range(1, m)]\n",
    "        #verify if all the costs are >= 0, thus the tableau is in optimal form\n",
    "        if all(b >= 0 for b in b_vector):\n",
    "            optimal = True\n",
    "            break\n",
    "        else:\n",
    "            #index of basic variable that will leave the basis\n",
    "            t = 1\n",
    "            #find the first negative variable with b < 0\n",
    "            for i in range(1, m):\n",
    "                if i != 0 and tableau[i][0] < 0:\n",
    "                    t = i\n",
    "                    break\n",
    "            if all(tableau[t][i] >= 0 for i in range(1, n)):\n",
    "                infeasible = True\n",
    "                break\n",
    "            else:\n",
    "                #choose the variable that will enter the basis\n",
    "                min = 100000\n",
    "                h = 1\n",
    "                for i in range(1, n):\n",
    "                    if tableau[t][i] < 0 and tableau[0][i] / abs(tableau[t][i]) < min:\n",
    "                        min = tableau[0][i] / abs(tableau[t][i])\n",
    "                        h = i\n",
    "                if verbose:\n",
    "                    print('Pivot operation on the cell: {}\\n'.format((t, h)))\n",
    "                \n",
    "                #pivot operation\n",
    "                pivot_operation(tableau, t, h)\n",
    "\n",
    "                #update the vector beta, containing the indices of the basis variables\n",
    "                beta[t-1] = h\n",
    "        \n",
    "        #Print the intermediate tableau\n",
    "        if verbose:\n",
    "            print('TABLEAU:\\n{}\\n'.format(tableau))\n",
    "\n",
    "    #solution\n",
    "    x = [0]*(n - 1)\n",
    "    for i, b in enumerate(beta):\n",
    "        x[b-1] = tableau[i+1][0]\n",
    "    if optimal:\n",
    "        print('The tableau has an optimal solution x = ', x)\n",
    "    elif infeasible:\n",
    "        print('The tableau is infeasible')"
   ]
  },
  {
   "cell_type": "markdown",
   "metadata": {},
   "source": [
    "## Two-Phase Method"
   ]
  },
  {
   "cell_type": "markdown",
   "metadata": {},
   "source": [
    "Function to check if the tableau's columns can be combined to form the identity matrix $I$"
   ]
  },
  {
   "cell_type": "code",
   "execution_count": 4,
   "metadata": {},
   "outputs": [],
   "source": [
    "def check_identity(tableau):\n",
    "    #shape of the tableau\n",
    "    m = tableau.shape[0]\n",
    "    n = tableau.shape[1]\n",
    "    #a column has shape of (m-1)x1, there are n-1 columns of variables and the matrix I is of shape (m-1)x(m-1)\n",
    "    #all the columns of the identity matrix\n",
    "    I = []\n",
    "    for i in range(m-1):\n",
    "        #create an empty column and the add the 1 in the i-th position\n",
    "        col = [0.]*(m-1)\n",
    "        col[i] = 1.\n",
    "        I.append(col)\n",
    "\n",
    "    #costs vector\n",
    "    costs = [tableau[0][c] for c in range(n)]\n",
    "\n",
    "    #check if there is the identity matrix in the input tableau\n",
    "    for j in range(1, n):\n",
    "        if not I:\n",
    "            return True\n",
    "        column = [tableau[i][j] for i in range(1, m)]\n",
    "        if column in I and costs[j] == 0:\n",
    "            I.remove(column)\n",
    "            print('Removed column: ', column)\n",
    "    \n",
    "    if not I:\n",
    "        return True\n",
    "    else:\n",
    "        return False"
   ]
  },
  {
   "cell_type": "markdown",
   "metadata": {},
   "source": [
    "Phase One function, adding variables for the start basis"
   ]
  },
  {
   "cell_type": "code",
   "execution_count": 41,
   "metadata": {},
   "outputs": [],
   "source": [
    "def phase_one(tableau):\n",
    "    #shape of the tableau\n",
    "    m = tableau.shape[0]\n",
    "    n = tableau.shape[1]\n",
    "\n",
    "    #counter for artificial variables\n",
    "    counter = 0\n",
    "\n",
    "    #add the new identity columns to the tableau\n",
    "    for i in range(m-1):\n",
    "        #create the new row with already the 0 as the cost\n",
    "        arr = np.zeros((m, 1), dtype=float)\n",
    "        arr[i+1] = 1.\n",
    "        #add the new column to the tableau\n",
    "        tableau = np.hstack((tableau, arr))\n",
    "        #update counter for artificial variables\n",
    "        counter += 1\n",
    "    \n",
    "    #calculate the new cost vector row w\n",
    "    for j in range(n):\n",
    "        tableau[0][j] = -sum(tableau[i][j] for i in range(1, m))\n",
    "\n",
    "    print('At the end of Phase-One:', tableau)\n",
    "\n",
    "    beta = [m+1, m+2]\n",
    "    return tableau, beta, counter"
   ]
  },
  {
   "cell_type": "markdown",
   "metadata": {},
   "source": [
    "Phase Two code"
   ]
  },
  {
   "cell_type": "code",
   "execution_count": null,
   "metadata": {},
   "outputs": [],
   "source": [
    "#def phase_two(tableau)"
   ]
  },
  {
   "cell_type": "markdown",
   "metadata": {},
   "source": [
    "Complete algorithm for the Two-Phase Method"
   ]
  },
  {
   "cell_type": "code",
   "execution_count": 48,
   "metadata": {},
   "outputs": [],
   "source": [
    "def two_phase_method(tableau):\n",
    "    #shape of the tableau\n",
    "    m = tableau.shape[0]\n",
    "    n = tableau.shape[1]\n",
    "    #initial cost vector\n",
    "    costs = [tableau[0][c] for c in range(1, n)]\n",
    "    \n",
    "    #run phase one\n",
    "    tableau_one, beta_one, counter = phase_one(tableau)\n",
    "    \n",
    "\n",
    "    #solve with the primal simplex method\n",
    "    tableau_int, beta = primal_simplex_method(tableau_one, beta_one, two_phase=True)\n",
    "\n",
    "    print('After simplex method:\\n', tableau_int)\n",
    "    #find the rows of the basis column, before expressed in z\n",
    "    new_z = np.zeros((tableau_int.shape[1]), dtype=float)\n",
    "    for i, c in enumerate(costs):\n",
    "        if (i+1) in beta and c != 0:\n",
    "            #get the index of the interested row in the tableau\n",
    "            row_index = beta.index(i+1)\n",
    "            #add the row in the new cost vector z, after the coefficient of the basic variable has been removed\n",
    "            row = tableau_int[row_index+1]\n",
    "            row[i] = 0.\n",
    "            #np.subtract(new_z, np.array(row))\n",
    "            #TODO: modified the way of obtaining the new z after phase one\n",
    "            for j in range(new_z.shape[0]):\n",
    "                new_z[j] += c * row[j]\n",
    "    #update the costs vector row of the tableau\n",
    "    #print(new_z)\n",
    "    for i in range(tableau_int.shape[1]):\n",
    "        tableau_int[0][i] = new_z[i]\n",
    "    print(tableau_int)\n",
    "\n",
    "    #remove the columns of the artificial variables\n",
    "    mod_tableau = tableau_int\n",
    "    for i in range(counter):\n",
    "        mod_tableau = np.delete(mod_tableau, mod_tableau.shape[1]-1, 1)\n",
    "    print(mod_tableau)\n",
    "\n",
    "    #apply the primal simplex method\n",
    "    primal_simplex_method(mod_tableau, beta)\n"
   ]
  },
  {
   "cell_type": "markdown",
   "metadata": {},
   "source": [
    "### Tests"
   ]
  },
  {
   "cell_type": "markdown",
   "metadata": {},
   "source": [
    "#### 1: Primal Simplex Method\n",
    "Test the Primal Simplex Method on the following tableau example"
   ]
  },
  {
   "cell_type": "code",
   "execution_count": 9,
   "metadata": {},
   "outputs": [
    {
     "name": "stdout",
     "output_type": "stream",
     "text": [
      "START TABLEAU:\n",
      "[[ 0. -1. -1.  0.  0.]\n",
      " [24.  6.  4.  1.  0.]\n",
      " [ 6.  3. -2.  0.  1.]]\n",
      "\n",
      "TABLEAU:\n",
      "[[ 2.          0.         -1.66666667  0.          0.33333333]\n",
      " [12.          0.          8.          1.         -2.        ]\n",
      " [ 2.          1.         -0.66666667  0.          0.33333333]]\n",
      "\n",
      "TABLEAU:\n",
      "[[ 4.5         0.          0.          0.20833333 -0.08333333]\n",
      " [ 1.5         0.          1.          0.125      -0.25      ]\n",
      " [ 3.          1.          0.          0.08333333  0.16666667]]\n",
      "\n",
      "TABLEAU:\n",
      "[[ 6.    0.5   0.    0.25  0.  ]\n",
      " [ 6.    1.5   1.    0.25  0.  ]\n",
      " [18.    6.    0.    0.5   1.  ]]\n",
      "\n",
      "The tableau has an optimal solution x =  [0, 6.0, 0, 18.0]\n"
     ]
    }
   ],
   "source": [
    "tableau = np.array([[0., -1., -1., 0., 0.], [24., 6., 4., 1., 0.], [6., 3., -2., 0., 1.]])\n",
    "beta = np.array([1, 2])\n",
    "\n",
    "#primal simple method only\n",
    "primal_simplex_method(tableau, beta, verbose=True)"
   ]
  },
  {
   "cell_type": "markdown",
   "metadata": {},
   "source": [
    "#### 2: Dual Simplex Method\n",
    "Test the Dual Simplex Method on the following tableau example"
   ]
  },
  {
   "cell_type": "code",
   "execution_count": 15,
   "metadata": {},
   "outputs": [
    {
     "name": "stdout",
     "output_type": "stream",
     "text": [
      "START TABLEAU:\n",
      "[[ 0.  0.  0.  0.  4.  3.  1.  0.]\n",
      " [-1.  0.  1.  0. -5.  1.  3.  0.]\n",
      " [-5.  1.  0.  0. -1.  0.  4.  0.]\n",
      " [-3.  0.  0.  1.  0. -1.  3.  0.]\n",
      " [-5.  0.  0.  0.  0.  2. -3.  1.]]\n",
      "\n",
      "Pivot operation on the cell: (1, 4)\n",
      "\n",
      "TABLEAU:\n",
      "[[-0.8  0.   0.8  0.   0.   3.8  3.4  0. ]\n",
      " [ 0.2 -0.  -0.2 -0.   1.  -0.2 -0.6 -0. ]\n",
      " [-4.8  1.  -0.2  0.   0.  -0.2  3.4  0. ]\n",
      " [-3.   0.   0.   1.   0.  -1.   3.   0. ]\n",
      " [-5.   0.   0.   0.   0.   2.  -3.   1. ]]\n",
      "\n",
      "Pivot operation on the cell: (2, 2)\n",
      "\n",
      "TABLEAU:\n",
      "[[-20.   4.   0.   0.   0.   3.  17.   0.]\n",
      " [  5.  -1.   0.  -0.   1.   0.  -4.  -0.]\n",
      " [ 24.  -5.   1.  -0.  -0.   1. -17.  -0.]\n",
      " [ -3.   0.   0.   1.   0.  -1.   3.   0.]\n",
      " [ -5.   0.   0.   0.   0.   2.  -3.   1.]]\n",
      "\n",
      "Pivot operation on the cell: (3, 5)\n",
      "\n",
      "TABLEAU:\n",
      "[[-29.   4.   0.   3.   0.   0.  26.   0.]\n",
      " [  5.  -1.   0.  -0.   1.   0.  -4.  -0.]\n",
      " [ 21.  -5.   1.   1.   0.   0. -14.   0.]\n",
      " [  3.  -0.  -0.  -1.  -0.   1.  -3.  -0.]\n",
      " [-11.   0.   0.   2.   0.   0.   3.   1.]]\n",
      "\n",
      "The tableau is infeasible\n"
     ]
    }
   ],
   "source": [
    "tableau2 = np.array([[0., 0., 0., 0., 4., 3., 1., 0.], [-1., 0., 1., 0., -5., 1., 3., 0.], [-5., 1., 0., 0., -1., 0., 4., 0.], [-3., 0., 0., 1., 0., -1., 3., 0.], [-5., 0., 0., 0., 0., 2., -3., 1.]])\n",
    "beta2 = np.array([2, 1, 3, 7])\n",
    "\n",
    "#primal simple method only\n",
    "dual_simplex_method(tableau2, beta2, verbose=True)"
   ]
  },
  {
   "cell_type": "markdown",
   "metadata": {},
   "source": [
    "#### 3: Two-Phase Method\n",
    "Test the Two-Phase Method on the following tableau example"
   ]
  },
  {
   "cell_type": "code",
   "execution_count": 47,
   "metadata": {},
   "outputs": [
    {
     "name": "stdout",
     "output_type": "stream",
     "text": [
      "False\n",
      "At the end of Phase-One: [[-6. -5. -3.  4.  0.  0.]\n",
      " [ 1.  2.  1. -3.  1.  0.]\n",
      " [ 5.  3.  2. -1.  0.  1.]]\n",
      "START TABLEAU:\n",
      "[[-6. -5. -3.  4.  0.  0.]\n",
      " [ 1.  2.  1. -3.  1.  0.]\n",
      " [ 5.  3.  2. -1.  0.  1.]]\n",
      "\n",
      "After simplex method:\n",
      " [[ 0.   0.   0.   0.   1.   1. ]\n",
      " [ 2.8  1.4  1.   0.  -0.2  0.6]\n",
      " [ 0.6 -0.2  0.   1.  -0.4  0.2]]\n",
      "[[-6.  -0.8 -3.   4.  -1.  -1. ]\n",
      " [ 2.8  0.   1.   0.  -0.2  0.6]\n",
      " [ 0.6 -0.2  0.   1.  -0.4  0.2]]\n",
      "[[-6.  -0.8 -3.   4. ]\n",
      " [ 2.8  0.   1.   0. ]\n",
      " [ 0.6 -0.2  0.   1. ]]\n",
      "START TABLEAU:\n",
      "[[-6.  -0.8 -3.   4. ]\n",
      " [ 2.8  0.   1.   0. ]\n",
      " [ 0.6 -0.2  0.   1. ]]\n",
      "\n"
     ]
    },
    {
     "name": "stderr",
     "output_type": "stream",
     "text": [
      "<ipython-input-2-2866cfeb9858>:9: RuntimeWarning: divide by zero encountered in double_scalars\n",
      "  tableau[t][i] /= pivot\n",
      "<ipython-input-2-2866cfeb9858>:9: RuntimeWarning: invalid value encountered in double_scalars\n",
      "  tableau[t][i] /= pivot\n",
      "<ipython-input-3-78ed7089cc1f>:39: RuntimeWarning: invalid value encountered in double_scalars\n",
      "  if tableau[i][h] > 0 and tableau[i][0] / tableau[i][h] < min:\n"
     ]
    },
    {
     "ename": "KeyboardInterrupt",
     "evalue": "",
     "output_type": "error",
     "traceback": [
      "\u001b[1;31m---------------------------------------------------------------------------\u001b[0m",
      "\u001b[1;31mKeyboardInterrupt\u001b[0m                         Traceback (most recent call last)",
      "\u001b[1;32m<ipython-input-47-c7c6db534bf0>\u001b[0m in \u001b[0;36m<module>\u001b[1;34m\u001b[0m\n\u001b[0;32m      4\u001b[0m \u001b[0mprint\u001b[0m\u001b[1;33m(\u001b[0m\u001b[0midentity\u001b[0m\u001b[1;33m)\u001b[0m\u001b[1;33m\u001b[0m\u001b[1;33m\u001b[0m\u001b[0m\n\u001b[0;32m      5\u001b[0m \u001b[1;33m\u001b[0m\u001b[0m\n\u001b[1;32m----> 6\u001b[1;33m \u001b[0mtwo_phase_method\u001b[0m\u001b[1;33m(\u001b[0m\u001b[0mtableau3\u001b[0m\u001b[1;33m)\u001b[0m\u001b[1;33m\u001b[0m\u001b[1;33m\u001b[0m\u001b[0m\n\u001b[0m",
      "\u001b[1;32m<ipython-input-46-957d96b834ca>\u001b[0m in \u001b[0;36mtwo_phase_method\u001b[1;34m(tableau)\u001b[0m\n\u001b[0;32m     39\u001b[0m \u001b[1;33m\u001b[0m\u001b[0m\n\u001b[0;32m     40\u001b[0m     \u001b[1;31m#apply the primal simplex method\u001b[0m\u001b[1;33m\u001b[0m\u001b[1;33m\u001b[0m\u001b[1;33m\u001b[0m\u001b[0m\n\u001b[1;32m---> 41\u001b[1;33m     \u001b[0mprimal_simplex_method\u001b[0m\u001b[1;33m(\u001b[0m\u001b[0mmod_tableau\u001b[0m\u001b[1;33m,\u001b[0m \u001b[0mbeta\u001b[0m\u001b[1;33m)\u001b[0m\u001b[1;33m\u001b[0m\u001b[1;33m\u001b[0m\u001b[0m\n\u001b[0m",
      "\u001b[1;32m<ipython-input-3-78ed7089cc1f>\u001b[0m in \u001b[0;36mprimal_simplex_method\u001b[1;34m(tableau, beta, two_phase, verbose)\u001b[0m\n\u001b[0;32m     43\u001b[0m \u001b[1;33m\u001b[0m\u001b[0m\n\u001b[0;32m     44\u001b[0m                 \u001b[1;31m#pivot operation\u001b[0m\u001b[1;33m\u001b[0m\u001b[1;33m\u001b[0m\u001b[1;33m\u001b[0m\u001b[0m\n\u001b[1;32m---> 45\u001b[1;33m                 \u001b[0mpivot_operation\u001b[0m\u001b[1;33m(\u001b[0m\u001b[0mtableau\u001b[0m\u001b[1;33m,\u001b[0m \u001b[0mt\u001b[0m\u001b[1;33m,\u001b[0m \u001b[0mh\u001b[0m\u001b[1;33m)\u001b[0m\u001b[1;33m\u001b[0m\u001b[1;33m\u001b[0m\u001b[0m\n\u001b[0m\u001b[0;32m     46\u001b[0m \u001b[1;33m\u001b[0m\u001b[0m\n\u001b[0;32m     47\u001b[0m                 \u001b[1;31m#update the vector beta, containing the indices of the basis variables\u001b[0m\u001b[1;33m\u001b[0m\u001b[1;33m\u001b[0m\u001b[1;33m\u001b[0m\u001b[0m\n",
      "\u001b[1;32m<ipython-input-2-2866cfeb9858>\u001b[0m in \u001b[0;36mpivot_operation\u001b[1;34m(tableau, t, h)\u001b[0m\n\u001b[0;32m     14\u001b[0m             \u001b[0msave\u001b[0m \u001b[1;33m=\u001b[0m \u001b[0mtableau\u001b[0m\u001b[1;33m[\u001b[0m\u001b[0mi\u001b[0m\u001b[1;33m]\u001b[0m\u001b[1;33m[\u001b[0m\u001b[0mh\u001b[0m\u001b[1;33m]\u001b[0m\u001b[1;33m\u001b[0m\u001b[1;33m\u001b[0m\u001b[0m\n\u001b[0;32m     15\u001b[0m             \u001b[1;32mfor\u001b[0m \u001b[0mj\u001b[0m \u001b[1;32min\u001b[0m \u001b[0mrange\u001b[0m\u001b[1;33m(\u001b[0m\u001b[0mn\u001b[0m\u001b[1;33m)\u001b[0m\u001b[1;33m:\u001b[0m\u001b[1;33m\u001b[0m\u001b[1;33m\u001b[0m\u001b[0m\n\u001b[1;32m---> 16\u001b[1;33m                 \u001b[0mtableau\u001b[0m\u001b[1;33m[\u001b[0m\u001b[0mi\u001b[0m\u001b[1;33m]\u001b[0m\u001b[1;33m[\u001b[0m\u001b[0mj\u001b[0m\u001b[1;33m]\u001b[0m \u001b[1;33m-=\u001b[0m \u001b[0msave\u001b[0m\u001b[1;33m*\u001b[0m\u001b[0mtableau\u001b[0m\u001b[1;33m[\u001b[0m\u001b[0mt\u001b[0m\u001b[1;33m]\u001b[0m\u001b[1;33m[\u001b[0m\u001b[0mj\u001b[0m\u001b[1;33m]\u001b[0m\u001b[1;33m\u001b[0m\u001b[1;33m\u001b[0m\u001b[0m\n\u001b[0m",
      "\u001b[1;31mKeyboardInterrupt\u001b[0m: "
     ]
    }
   ],
   "source": [
    "tableau3 = np.array([[-6, -5., -3., 4.], [1., 2., 1., -3.], [5., 3., 2., -1.]])\n",
    "\n",
    "identity = check_identity(tableau3)\n",
    "print(identity)\n",
    "\n",
    "two_phase_method(tableau3)"
   ]
  }
 ],
 "metadata": {
  "interpreter": {
   "hash": "122ceb358137b0bae218a9ce70c8644c3935e31a12a8af970b07a55016028c1b"
  },
  "kernelspec": {
   "display_name": "Python 3.8.8 64-bit ('base': conda)",
   "language": "python",
   "name": "python3"
  },
  "language_info": {
   "codemirror_mode": {
    "name": "ipython",
    "version": 3
   },
   "file_extension": ".py",
   "mimetype": "text/x-python",
   "name": "python",
   "nbconvert_exporter": "python",
   "pygments_lexer": "ipython3",
   "version": "3.8.8"
  },
  "orig_nbformat": 4
 },
 "nbformat": 4,
 "nbformat_minor": 2
}
