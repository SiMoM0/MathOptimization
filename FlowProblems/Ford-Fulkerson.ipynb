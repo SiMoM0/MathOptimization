{
 "cells": [
  {
   "cell_type": "markdown",
   "metadata": {},
   "source": [
    "# Ford-Fulkerson Algorithm for flow problems"
   ]
  },
  {
   "cell_type": "code",
   "execution_count": 1,
   "metadata": {},
   "outputs": [],
   "source": [
    "import networkx as nx"
   ]
  },
  {
   "cell_type": "markdown",
   "metadata": {},
   "source": [
    "The Ford-Fulkerson algorithm implement a simple solution for the MAX-FLOW problem. In case of integer capacities the time complexity is $O(m^2k_{max})$. The implementation below uses some tricks in order to improve the code, applying to every vertex the following attributes:\n",
    "* $pred[j]$ is the vertex that precedes j in the augmenting path from $s$ to $j$\n",
    "* $\\epsilon[j]$ is the amount of 'residual flow' which can be sent to $j$ through that augmenting path\n",
    "\n",
    "The method takes in input the graph, the source node $s$ and the terminal node $t$."
   ]
  },
  {
   "cell_type": "code",
   "execution_count": 54,
   "metadata": {},
   "outputs": [],
   "source": [
    "def ford_fulkerson(G, s, t):\n",
    "    #useful variables of the graph given in input\n",
    "    node_list = list(G.nodes)\n",
    "    edge_list = list(G.edges)\n",
    "\n",
    "    #number of nodes\n",
    "    n = len(node_list)\n",
    "    #number of edges\n",
    "    m = len(edge_list)\n",
    "\n",
    "    #set to every arcs (i,j) the attribute x, initializing null flow\n",
    "    nx.set_edge_attributes(G, 0, 'x')\n",
    "    #set attributes pred and epsilon to all the vertices\n",
    "    nx.set_node_attributes(G, 0, 'pred')\n",
    "    nx.set_node_attributes(G, 0, 'eps')\n",
    "    #phi zero, value of flow x\n",
    "    phi0 = 0\n",
    "    #queue of labeled yet unprocessed vertices\n",
    "    Q = set()\n",
    "\n",
    "    #main loop\n",
    "    while True:\n",
    "        #set pred for every vertex to 0, and the symbol (+,-) representing forward or backward arc\n",
    "        nx.set_node_attributes(G, 0, 'pred')\n",
    "        nx.set_node_attributes(G, 0, 'symb')\n",
    "        #set attributes for starting vertex\n",
    "        G.nodes[s]['pred'] = s\n",
    "        G.nodes[s]['eps'] = 1023\n",
    "        #start vertex in the queue\n",
    "        Q = {s}\n",
    "\n",
    "        #loop\n",
    "        while Q and G.nodes[t]['pred'] == 0:\n",
    "            #vertex h pop by the queue Q, usually the small one\n",
    "            h = min(Q)\n",
    "            Q.remove(h)\n",
    "            #for each unsaturated forwards arcs\n",
    "            for j in G.neighbors(h):\n",
    "                #check condition x[h,j] < k[h,j]\n",
    "                if G[h][j]['x'] < G[h][j]['capacity']:\n",
    "                    if G.nodes[j]['pred'] == 0:\n",
    "                        G.nodes[j]['eps'] = min(G.nodes[h]['eps'], G[h][j]['capacity'] - G[h][j]['x'])\n",
    "                        G.nodes[j]['pred'] = h\n",
    "                        G.nodes[j]['symb'] = +1\n",
    "                        Q.add(j)\n",
    "            #for non-empty backward arcs\n",
    "            for i in G.predecessors(h):\n",
    "                #check condition x[i,h] > 0\n",
    "                if G[i][h]['x'] > 0:\n",
    "                    if G.nodes[i]['pred'] == 0:\n",
    "                        G.nodes[i]['eps'] = min(G.nodes[h]['eps'], G[i][h]['x'])\n",
    "                        G.nodes[i]['pred'] = h\n",
    "                        G.nodes[i]['symb'] = -1\n",
    "                        Q.add(i)\n",
    "        \n",
    "        #print(G.nodes(data=True))\n",
    "\n",
    "        #find an augmenting path\n",
    "        if G.nodes[t]['pred'] != 0:\n",
    "            delta = G.nodes[t]['eps']\n",
    "            phi0 += delta\n",
    "            j = t\n",
    "            #backward reconstruction of the augmenting path\n",
    "            while j != s:\n",
    "                #print(f'Evaluating node: {j}')\n",
    "                i = G.nodes[j]['pred']\n",
    "                symb = G.nodes[j]['symb']\n",
    "                if symb > 0:\n",
    "                    G[i][j]['x'] += delta\n",
    "                else:\n",
    "                    G[j][i]['x'] -= delta\n",
    "                #update j\n",
    "                j = i\n",
    "        \n",
    "        #if the current flow is optimal stop\n",
    "        if G.nodes[t]['pred'] == 0:\n",
    "            break\n",
    "\n",
    "    return phi0      "
   ]
  },
  {
   "cell_type": "markdown",
   "metadata": {},
   "source": [
    "### Test 1"
   ]
  },
  {
   "cell_type": "code",
   "execution_count": 2,
   "metadata": {},
   "outputs": [],
   "source": [
    "G = nx.DiGraph()\n",
    "G.add_edge(1, 2, capacity=2)\n",
    "G.add_edge(1, 5, capacity=2)\n",
    "G.add_edge(1, 4, capacity=2)\n",
    "G.add_edge(2, 3, capacity=2)\n",
    "G.add_edge(2, 4, capacity=1)\n",
    "G.add_edge(2, 6, capacity=2)\n",
    "G.add_edge(3, 7, capacity=2)\n",
    "G.add_edge(4, 3, capacity=1)\n",
    "G.add_edge(5, 2, capacity=1)\n",
    "G.add_edge(5, 6, capacity=2)\n",
    "G.add_edge(6, 3, capacity=1)\n",
    "G.add_edge(6, 7, capacity=4)"
   ]
  },
  {
   "cell_type": "code",
   "execution_count": 55,
   "metadata": {},
   "outputs": [
    {
     "name": "stdout",
     "output_type": "stream",
     "text": [
      "Flow for the given graph:  5\n"
     ]
    }
   ],
   "source": [
    "vertices = list(G.nodes)\n",
    "source = vertices[0]\n",
    "terminal = vertices[-1]\n",
    "\n",
    "flow = ford_fulkerson(G, source, terminal)\n",
    "print('Flow for the given graph: ', flow)"
   ]
  },
  {
   "cell_type": "markdown",
   "metadata": {},
   "source": [
    "### Test 2"
   ]
  },
  {
   "cell_type": "code",
   "execution_count": 56,
   "metadata": {},
   "outputs": [],
   "source": [
    "G2 = nx.DiGraph()\n",
    "G2.add_edge(1, 2, capacity=6)\n",
    "G2.add_edge(1, 5, capacity=10)\n",
    "G2.add_edge(1, 4, capacity=5)\n",
    "G2.add_edge(2, 3, capacity=5)\n",
    "G2.add_edge(2, 6, capacity=12)\n",
    "G2.add_edge(3, 7, capacity=4)\n",
    "G2.add_edge(4, 2, capacity=5)\n",
    "G2.add_edge(4, 3, capacity=7)\n",
    "G2.add_edge(5, 4, capacity=12)\n",
    "G2.add_edge(6, 3, capacity=3)\n",
    "G2.add_edge(6, 7, capacity=15)"
   ]
  },
  {
   "cell_type": "code",
   "execution_count": 60,
   "metadata": {},
   "outputs": [
    {
     "name": "stdout",
     "output_type": "stream",
     "text": [
      "Flow for the given graph:  15\n",
      "Vertices info:  [(1, 2, {'capacity': 6, 'x': 6}), (1, 5, {'capacity': 10, 'x': 4}), (1, 4, {'capacity': 5, 'x': 5}), (2, 3, {'capacity': 5, 'x': 0}), (2, 6, {'capacity': 12, 'x': 11}), (5, 4, {'capacity': 12, 'x': 4}), (4, 2, {'capacity': 5, 'x': 5}), (4, 3, {'capacity': 7, 'x': 4}), (3, 7, {'capacity': 4, 'x': 4}), (6, 3, {'capacity': 3, 'x': 0}), (6, 7, {'capacity': 15, 'x': 11})]\n"
     ]
    }
   ],
   "source": [
    "vertices = list(G2.nodes)\n",
    "source = vertices[0]\n",
    "terminal = vertices[-1]\n",
    "\n",
    "flow = ford_fulkerson(G2, source, terminal)\n",
    "print('Flow for the given graph: ', flow)\n",
    "print('Vertices info: ', G2.edges(data=True))"
   ]
  }
 ],
 "metadata": {
  "interpreter": {
   "hash": "122ceb358137b0bae218a9ce70c8644c3935e31a12a8af970b07a55016028c1b"
  },
  "kernelspec": {
   "display_name": "Python 3.8.8 ('base')",
   "language": "python",
   "name": "python3"
  },
  "language_info": {
   "codemirror_mode": {
    "name": "ipython",
    "version": 3
   },
   "file_extension": ".py",
   "mimetype": "text/x-python",
   "name": "python",
   "nbconvert_exporter": "python",
   "pygments_lexer": "ipython3",
   "version": "3.8.8"
  },
  "orig_nbformat": 4
 },
 "nbformat": 4,
 "nbformat_minor": 2
}
