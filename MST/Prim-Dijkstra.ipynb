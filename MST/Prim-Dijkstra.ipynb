{
 "cells": [
  {
   "cell_type": "markdown",
   "metadata": {},
   "source": [
    "# Prim-Dijkstra Algorithm"
   ]
  },
  {
   "cell_type": "code",
   "execution_count": 1,
   "metadata": {},
   "outputs": [],
   "source": [
    "import networkx as nx\n",
    "import matplotlib.pyplot as plt"
   ]
  },
  {
   "cell_type": "markdown",
   "metadata": {},
   "source": [
    "Create a simple graph as example for the algorithm and plot it"
   ]
  },
  {
   "cell_type": "code",
   "execution_count": 2,
   "metadata": {},
   "outputs": [],
   "source": [
    "G = nx.Graph()\n",
    "#G.add_nodes_from([1, 2, 3, 4, 5, 6, 7, 8])\n",
    "G.add_edge(1, 2, weight=14)\n",
    "G.add_edge(1, 3, weight=2)\n",
    "G.add_edge(1, 4, weight=1)\n",
    "G.add_edge(2, 3, weight=15)\n",
    "G.add_edge(2, 6, weight=7)\n",
    "G.add_edge(3, 4, weight=6)\n",
    "G.add_edge(3, 5, weight=5)\n",
    "G.add_edge(3, 7, weight=12)\n",
    "G.add_edge(4, 6, weight=4)\n",
    "G.add_edge(6, 5, weight=3)\n",
    "G.add_edge(6, 7, weight=6)\n",
    "G.add_edge(6, 8, weight=20)\n",
    "G.add_edge(5, 8, weight=10)\n",
    "G.add_edge(7, 8, weight=5)"
   ]
  },
  {
   "cell_type": "markdown",
   "metadata": {},
   "source": [
    "Code for the algorithm of Prim-Dijkstra"
   ]
  },
  {
   "cell_type": "code",
   "execution_count": 5,
   "metadata": {},
   "outputs": [],
   "source": [
    "def prim_dijkstra(graph):\n",
    "\n",
    "    node_list = list(graph.nodes)\n",
    "    edge_list = list(graph.edges)\n",
    "\n",
    "    start = node_list[0]\n",
    "\n",
    "    S = {start}\n",
    "\n",
    "    #number of nodes/vertices\n",
    "    n = len(node_list)\n",
    "    #number of edges\n",
    "    m = len(edge_list)\n",
    "\n",
    "    #add attribute flag, pred and L to every node in the graph\n",
    "    nx.set_node_attributes(graph, 0, 'flag')\n",
    "    nx.set_node_attributes(graph, start, 'pred')\n",
    "    nx.set_node_attributes(graph, None, 'L')\n",
    "\n",
    "    #set start node attribute\n",
    "    graph.nodes[start]['flag'] = start\n",
    "    graph.nodes[start]['pred'] = start\n",
    "    graph.nodes[start]['L'] = 0\n",
    "\n",
    "    #set the first L attribute\n",
    "    for node in node_list:\n",
    "        try:\n",
    "            #print(graph[first_node][node_list[i]]['weight'])\n",
    "            graph.nodes[node]['L'] = graph[start][node]['weight']\n",
    "        except:\n",
    "            continue\n",
    "\n",
    "    print(S)\n",
    "    #print(graph.nodes[4])\n",
    "\n",
    "    for k in range(n-1):\n",
    "        min = 100000\n",
    "\n",
    "        #new node to be add to S        \n",
    "        h = None\n",
    "\n",
    "        for node in S:\n",
    "            #print('Starting from node: ', node)\n",
    "            for adj in graph.neighbors(node):\n",
    "                #print('Adjacedent node: {} with distance: {}'.format(adj, graph[node][adj]['weight']))\n",
    "                if graph.nodes[adj]['flag'] == 0 and graph.nodes[adj]['L'] < min:\n",
    "                    min = graph.nodes[adj]['L']\n",
    "                    h = adj\n",
    "                    #print(h)\n",
    "        #print('Choose new node: ', h)\n",
    "        S.add(h)\n",
    "        graph.nodes[h]['flag'] = 1\n",
    "\n",
    "        print(S)\n",
    "\n",
    "        for adj in graph.neighbors(h):\n",
    "            if graph.nodes[adj]['flag'] == 0 and (graph.nodes[adj]['L'] == None or graph[h][adj]['weight'] < graph.nodes[adj]['L']):\n",
    "                graph.nodes[adj]['L'] = graph[h][adj]['weight']\n",
    "                graph.nodes[adj]['pred'] = h\n",
    "                #print('Modified Node ', adj)\n",
    "\n",
    "            #print('Node {} with attributes: {}'.format(adj, graph.nodes[adj])) "
   ]
  },
  {
   "cell_type": "markdown",
   "metadata": {},
   "source": [
    "### Test"
   ]
  },
  {
   "cell_type": "code",
   "execution_count": 4,
   "metadata": {},
   "outputs": [
    {
     "name": "stdout",
     "output_type": "stream",
     "text": [
      "{1}\n",
      "{1, 4}\n",
      "{1, 3, 4}\n",
      "{1, 3, 4, 6}\n",
      "{1, 3, 4, 5, 6}\n",
      "{1, 3, 4, 5, 6, 7}\n",
      "{1, 3, 4, 5, 6, 7, 8}\n",
      "{1, 2, 3, 4, 5, 6, 7, 8}\n"
     ]
    }
   ],
   "source": [
    "prim_dijkstra(G)"
   ]
  },
  {
   "cell_type": "markdown",
   "metadata": {},
   "source": [
    "Print all the predecessor of every node in the graph"
   ]
  },
  {
   "cell_type": "code",
   "execution_count": 10,
   "metadata": {},
   "outputs": [],
   "source": [
    "def print_pred(G):\n",
    "    for node in G.nodes:\n",
    "        pred = G.nodes[node]['pred']\n",
    "        print('Predecessor of node \\'{}\\' is node: \\'{}\\''.format(node, pred))"
   ]
  },
  {
   "cell_type": "code",
   "execution_count": 11,
   "metadata": {},
   "outputs": [
    {
     "name": "stdout",
     "output_type": "stream",
     "text": [
      "Predecessor of node '1' is node: '1'\n",
      "Predecessor of node '2' is node: '6'\n",
      "Predecessor of node '3' is node: '1'\n",
      "Predecessor of node '4' is node: '1'\n",
      "Predecessor of node '6' is node: '4'\n",
      "Predecessor of node '5' is node: '6'\n",
      "Predecessor of node '7' is node: '6'\n",
      "Predecessor of node '8' is node: '7'\n"
     ]
    }
   ],
   "source": [
    "print_pred(G)"
   ]
  }
 ],
 "metadata": {
  "interpreter": {
   "hash": "122ceb358137b0bae218a9ce70c8644c3935e31a12a8af970b07a55016028c1b"
  },
  "kernelspec": {
   "display_name": "Python 3.8.8 64-bit ('base': conda)",
   "language": "python",
   "name": "python3"
  },
  "language_info": {
   "codemirror_mode": {
    "name": "ipython",
    "version": 3
   },
   "file_extension": ".py",
   "mimetype": "text/x-python",
   "name": "python",
   "nbconvert_exporter": "python",
   "pygments_lexer": "ipython3",
   "version": "3.8.8"
  },
  "orig_nbformat": 4
 },
 "nbformat": 4,
 "nbformat_minor": 2
}
